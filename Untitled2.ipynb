{
 "cells": [
  {
   "cell_type": "code",
   "execution_count": 12,
   "id": "d87f0efb-9376-41e4-9af4-b3df1a8ae215",
   "metadata": {},
   "outputs": [
    {
     "name": "stdout",
     "output_type": "stream",
     "text": [
      "File not found. Please check the file path.\n"
     ]
    },
    {
     "name": "stderr",
     "output_type": "stream",
     "text": [
      "[nltk_data] Downloading package punkt to\n",
      "[nltk_data]     C:\\Users\\rames\\AppData\\Roaming\\nltk_data...\n",
      "[nltk_data]   Package punkt is already up-to-date!\n"
     ]
    }
   ],
   "source": [
    "import nltk\n",
    "from nltk.tokenize import word_tokenize\n",
    "from nltk.probability import FreqDist\n",
    "import string\n",
    "\n",
    "# Ensure the necessary NLTK packages are downloaded\n",
    "nltk.download('punkt')\n",
    "\n",
    "def load_text_file(file_path):\n",
    "    \"\"\"Load text data from a file.\"\"\"\n",
    "    try:\n",
    "        with open(file_path, 'r', encoding='utf-8') as file:\n",
    "            return file.read()\n",
    "    except FileNotFoundError:\n",
    "        print(\"File not found. Please check the file path.\")\n",
    "        return None\n",
    "\n",
    "def preprocess_text(text):\n",
    "    \"\"\"Preprocess text by removing punctuation and converting to lowercase.\"\"\"\n",
    "    translator = str.maketrans('', '', string.punctuation)\n",
    "    return text.translate(translator).lower()\n",
    "\n",
    "def get_most_common_words(text, n=10):\n",
    "    \"\"\"Tokenize the text and return the n most common words.\"\"\"\n",
    "    tokens = word_tokenize(text)\n",
    "    freq_dist = FreqDist(tokens)\n",
    "    return freq_dist.most_common(n)\n",
    "\n",
    "def main():\n",
    "    # Specify the path to your text file\n",
    "    file_path = \"sample.txt\"  # Replace with the path to your text file\n",
    "\n",
    "    # Load and preprocess the text\n",
    "    text = load_text_file(file_path)\n",
    "    if text:\n",
    "        processed_text = preprocess_text(text)\n",
    "\n",
    "        # Get the 10 most common words\n",
    "        most_common_words = get_most_common_words(processed_text, 10)\n",
    "\n",
    "        print(\"The 10 most common words are:\")\n",
    "        for word, count in most_common_words:\n",
    "            print(f\"{word}: {count}\")\n",
    "\n",
    "if __name__ == \"__main__\":\n",
    "    main()\n"
   ]
  },
  {
   "cell_type": "code",
   "execution_count": 14,
   "id": "7a7f5bd1-9104-4d3d-b479-5764150bfb4b",
   "metadata": {},
   "outputs": [
    {
     "name": "stdout",
     "output_type": "stream",
     "text": [
      "Cosine Similarity: 1.0\n"
     ]
    }
   ],
   "source": [
    "from sklearn.feature_extraction.text import TfidfVectorizer\n",
    "from sklearn.metrics.pairwise import cosine_similarity\n",
    "\n",
    "def calculate_cosine_similarity(text1, text2):\n",
    "    \"\"\"Calculate cosine similarity between two strings.\"\"\"\n",
    "    # Initialize the TfidfVectorizer\n",
    "    vectorizer = TfidfVectorizer()\n",
    "\n",
    "    # Transform the texts into TF-IDF vectors\n",
    "    tfidf_matrix = vectorizer.fit_transform([text1, text2])\n",
    "\n",
    "    # Compute the cosine similarity\n",
    "    similarity = cosine_similarity(tfidf_matrix[0:1], tfidf_matrix[1:2])\n",
    "\n",
    "    return similarity[0][0]\n",
    "\n",
    "def main():\n",
    "    # Example strings\n",
    "    text1 = \"This is a sample sentence.\"\n",
    "    text2 = \"This sentence is a sample.\"\n",
    "\n",
    "    # Calculate cosine similarity\n",
    "    similarity = calculate_cosine_similarity(text1, text2)\n",
    "\n",
    "    print(f\"Cosine Similarity: {similarity}\")\n",
    "\n",
    "if __name__ == \"__main__\":\n",
    "    main()\n"
   ]
  },
  {
   "cell_type": "code",
   "execution_count": null,
   "id": "e15a1309-10b0-45a9-be14-fe1513a4ea5a",
   "metadata": {},
   "outputs": [],
   "source": [
    "import spacy\n",
    "\n",
    "def perform_ner(text):\n",
    "    \"\"\"Perform Named Entity Recognition (NER) on the given text.\"\"\"\n",
    "    # Load the SpaCy English model\n",
    "    nlp = spacy.load(\"en_core_web_sm\")\n",
    "\n",
    "    # Process the text using SpaCy\n",
    "    doc = nlp(text)\n",
    "\n",
    "    # Extract entities and their labels\n",
    "    entities = [(ent.text, ent.label_) for ent in doc.ents]\n",
    "    return entities\n",
    "\n",
    "def main():\n",
    "    # Example text\n",
    "    text = \"Barack Obama was born on August 4, 1961, in Honolulu, Hawaii. He was the 44th President of the United States.\"\n",
    "\n",
    "    # Perform NER\n",
    "    entities = perform_ner(text)\n",
    "\n",
    "    print(\"Named Entities and their Types:\")\n",
    "    for entity, label in entities:\n",
    "        print(f\"{entity}: {label}\")\n",
    "\n",
    "if __name__ == \"__main__\":\n",
    "    main()\n"
   ]
  },
  {
   "cell_type": "code",
   "execution_count": 18,
   "id": "3b7bc454-5627-414d-b09c-04a870070da7",
   "metadata": {},
   "outputs": [
    {
     "name": "stdout",
     "output_type": "stream",
     "text": [
      "Collecting textblob\n",
      "  Downloading textblob-0.19.0-py3-none-any.whl.metadata (4.4 kB)\n",
      "Requirement already satisfied: nltk>=3.9 in c:\\users\\rames\\anaconda3\\lib\\site-packages (from textblob) (3.9.1)\n",
      "Requirement already satisfied: click in c:\\users\\rames\\anaconda3\\lib\\site-packages (from nltk>=3.9->textblob) (8.1.7)\n",
      "Requirement already satisfied: joblib in c:\\users\\rames\\anaconda3\\lib\\site-packages (from nltk>=3.9->textblob) (1.4.2)\n",
      "Requirement already satisfied: regex>=2021.8.3 in c:\\users\\rames\\anaconda3\\lib\\site-packages (from nltk>=3.9->textblob) (2024.9.11)\n",
      "Requirement already satisfied: tqdm in c:\\users\\rames\\anaconda3\\lib\\site-packages (from nltk>=3.9->textblob) (4.66.5)\n",
      "Requirement already satisfied: colorama in c:\\users\\rames\\anaconda3\\lib\\site-packages (from click->nltk>=3.9->textblob) (0.4.6)\n",
      "Downloading textblob-0.19.0-py3-none-any.whl (624 kB)\n",
      "   ---------------------------------------- 0.0/624.3 kB ? eta -:--:--\n",
      "   ---------------------------------------- 0.0/624.3 kB ? eta -:--:--\n",
      "   ---------------------------------------- 0.0/624.3 kB ? eta -:--:--\n",
      "   ---------------------------------------- 0.0/624.3 kB ? eta -:--:--\n",
      "   ---------------------------------------- 0.0/624.3 kB ? eta -:--:--\n",
      "   ---------------------------------------- 0.0/624.3 kB ? eta -:--:--\n",
      "   ---------------------------------------- 0.0/624.3 kB ? eta -:--:--\n",
      "   ---------------------------------------- 0.0/624.3 kB ? eta -:--:--\n",
      "   ---------------------------------------- 0.0/624.3 kB ? eta -:--:--\n",
      "   ---------------------------------------- 0.0/624.3 kB ? eta -:--:--\n",
      "   ---------------------------------------- 0.0/624.3 kB ? eta -:--:--\n",
      "   ---------------------------------------- 0.0/624.3 kB ? eta -:--:--\n",
      "   ---------------------------------------- 0.0/624.3 kB ? eta -:--:--\n",
      "   ---------------------------------------- 0.0/624.3 kB ? eta -:--:--\n",
      "   ---------------------------------------- 0.0/624.3 kB ? eta -:--:--\n",
      "   ---------------- ----------------------- 262.1/624.3 kB ? eta -:--:--\n",
      "   ---------------- ----------------------- 262.1/624.3 kB ? eta -:--:--\n",
      "   ---------------- ----------------------- 262.1/624.3 kB ? eta -:--:--\n",
      "   ---------------- ----------------------- 262.1/624.3 kB ? eta -:--:--\n",
      "   ---------------- ----------------------- 262.1/624.3 kB ? eta -:--:--\n",
      "   ---------------- ----------------------- 262.1/624.3 kB ? eta -:--:--\n",
      "   ---------------- ----------------------- 262.1/624.3 kB ? eta -:--:--\n",
      "   ---------------- ----------------------- 262.1/624.3 kB ? eta -:--:--\n",
      "   ---------------- ----------------------- 262.1/624.3 kB ? eta -:--:--\n",
      "   ---------------- ----------------------- 262.1/624.3 kB ? eta -:--:--\n",
      "   ---------------- ----------------------- 262.1/624.3 kB ? eta -:--:--\n",
      "   ---------------- ----------------------- 262.1/624.3 kB ? eta -:--:--\n",
      "   ---------------- ----------------------- 262.1/624.3 kB ? eta -:--:--\n",
      "   ---------------- ----------------------- 262.1/624.3 kB ? eta -:--:--\n",
      "   ---------------- ----------------------- 262.1/624.3 kB ? eta -:--:--\n",
      "   ---------------- ----------------------- 262.1/624.3 kB ? eta -:--:--\n",
      "   ---------------- ----------------------- 262.1/624.3 kB ? eta -:--:--\n",
      "   ---------------- ----------------------- 262.1/624.3 kB ? eta -:--:--\n",
      "   ---------------- ----------------------- 262.1/624.3 kB ? eta -:--:--\n",
      "   -------------------------------- ------ 524.3/624.3 kB 62.1 kB/s eta 0:00:02\n",
      "   -------------------------------- ------ 524.3/624.3 kB 62.1 kB/s eta 0:00:02\n",
      "   -------------------------------- ------ 524.3/624.3 kB 62.1 kB/s eta 0:00:02\n",
      "   -------------------------------- ------ 524.3/624.3 kB 62.1 kB/s eta 0:00:02\n",
      "   --------------------------------------- 624.3/624.3 kB 70.2 kB/s eta 0:00:00\n",
      "Installing collected packages: textblob\n",
      "Successfully installed textblob-0.19.0\n",
      "Note: you may need to restart the kernel to use updated packages.\n"
     ]
    }
   ],
   "source": [
    "pip install textblob\n"
   ]
  },
  {
   "cell_type": "code",
   "execution_count": 16,
   "id": "f681aaf5-d314-47ec-b8da-8e4dfc322db5",
   "metadata": {},
   "outputs": [
    {
     "ename": "ModuleNotFoundError",
     "evalue": "No module named 'textblob'",
     "output_type": "error",
     "traceback": [
      "\u001b[1;31m---------------------------------------------------------------------------\u001b[0m",
      "\u001b[1;31mModuleNotFoundError\u001b[0m                       Traceback (most recent call last)",
      "Cell \u001b[1;32mIn[16], line 1\u001b[0m\n\u001b[1;32m----> 1\u001b[0m \u001b[38;5;28;01mfrom\u001b[39;00m \u001b[38;5;21;01mtextblob\u001b[39;00m \u001b[38;5;28;01mimport\u001b[39;00m TextBlob\n\u001b[0;32m      3\u001b[0m \u001b[38;5;28;01mdef\u001b[39;00m \u001b[38;5;21manalyze_sentiment\u001b[39m(text):\n\u001b[0;32m      4\u001b[0m \u001b[38;5;250m    \u001b[39m\u001b[38;5;124;03m\"\"\"Perform sentiment analysis on the given text.\"\"\"\u001b[39;00m\n",
      "\u001b[1;31mModuleNotFoundError\u001b[0m: No module named 'textblob'"
     ]
    }
   ],
   "source": [
    "from textblob import TextBlob\n",
    "\n",
    "def analyze_sentiment(text):\n",
    "    \"\"\"Perform sentiment analysis on the given text.\"\"\"\n",
    "    # Create a TextBlob object\n",
    "    blob = TextBlob(text)\n",
    "\n",
    "    # Get the sentiment polarity\n",
    "    polarity = blob.sentiment.polarity\n",
    "\n",
    "    # Determine the sentiment type\n",
    "    if polarity > 0:\n",
    "        sentiment = \"Positive\"\n",
    "    elif polarity < 0:\n",
    "        sentiment = \"Negative\"\n",
    "    else:\n",
    "        sentiment = \"Neutral\"\n",
    "\n",
    "    return sentiment, polarity\n",
    "\n",
    "def main():\n",
    "    # Example text\n",
    "    text = \"I love this product! It's amazing and works perfectly.\"\n",
    "\n",
    "    # Perform sentiment analysis\n",
    "    sentiment, polarity = analyze_sentiment(text)\n",
    "\n",
    "    print(\"Sentiment Analysis Result:\")\n",
    "    print(f\"Sentiment: {sentiment}\")\n",
    "    print(f\"Polarity: {polarity}\")\n",
    "\n",
    "if __name__ == \"__main__\":\n",
    "    main()\n"
   ]
  },
  {
   "cell_type": "code",
   "execution_count": 8,
   "id": "26bbd67a-9f7d-4f40-b7e8-ec259574d174",
   "metadata": {},
   "outputs": [
    {
     "name": "stdout",
     "output_type": "stream",
     "text": [
      "File not found. Please check the file path.\n"
     ]
    },
    {
     "name": "stderr",
     "output_type": "stream",
     "text": [
      "[nltk_data] Downloading package punkt to\n",
      "[nltk_data]     C:\\Users\\rames\\AppData\\Roaming\\nltk_data...\n",
      "[nltk_data]   Package punkt is already up-to-date!\n"
     ]
    }
   ],
   "source": [
    "import string\n",
    "from collections import Counter\n",
    "from nltk.tokenize import word_tokenize\n",
    "import nltk\n",
    "\n",
    "# Ensure necessary NLTK packages are downloaded\n",
    "nltk.download('punkt')\n",
    "\n",
    "def load_text_file(file_path):\n",
    "    \"\"\"Load text data from a file.\"\"\"\n",
    "    try:\n",
    "        with open(file_path, 'r', encoding='utf-8') as file:\n",
    "            return file.read()\n",
    "    except FileNotFoundError:\n",
    "        print(\"File not found. Please check the file path.\")\n",
    "        return None\n",
    "\n",
    "def preprocess_text(text):\n",
    "    \"\"\"Preprocess text by removing punctuation and converting to lowercase.\"\"\"\n",
    "    translator = str.maketrans('', '', string.punctuation)\n",
    "    return text.translate(translator).lower()\n",
    "\n",
    "def calculate_term_frequency(tokens):\n",
    "    \"\"\"Calculate the term frequency (TF) of each token.\"\"\"\n",
    "    total_tokens = len(tokens)\n",
    "    token_counts = Counter(tokens)\n",
    "    tf = {token: count / total_tokens for token, count in token_counts.items()}\n",
    "    return tf\n",
    "\n",
    "def main():\n",
    "    # Specify the path to your text file\n",
    "    file_path = \"sample.txt\"  # Replace with the path to your text file\n",
    "\n",
    "    # Load and preprocess the text\n",
    "    text = load_text_file(file_path)\n",
    "    if text:\n",
    "        processed_text = preprocess_text(text)\n",
    "\n",
    "        # Tokenize the text\n",
    "        tokens = word_tokenize(processed_text)\n",
    "\n",
    "        # Calculate term frequency (TF)\n",
    "        tf = calculate_term_frequency(tokens)\n",
    "\n",
    "        # Sort and get the top 5 most frequent tokens\n",
    "        top_tokens = sorted(tf.items(), key=lambda item: item[1], reverse=True)[:5]\n",
    "\n",
    "        print(\"Top 5 Most Frequent Tokens and Their Term Frequencies:\")\n",
    "        for token, frequency in top_tokens:\n",
    "            print(f\"{token}: {frequency:.4f}\")\n",
    "\n",
    "if __name__ == \"__main__\":\n",
    "    main()"
   ]
  },
  {
   "cell_type": "code",
   "execution_count": null,
   "id": "a045b638-61ce-4374-b0e0-93ecd126fcf0",
   "metadata": {},
   "outputs": [],
   "source": []
  },
  {
   "cell_type": "code",
   "execution_count": null,
   "id": "703d2556-b2a1-42f4-8a4e-4622288367e0",
   "metadata": {},
   "outputs": [],
   "source": []
  },
  {
   "cell_type": "code",
   "execution_count": null,
   "id": "086a3398-e205-4fd2-8111-4a1d348391c6",
   "metadata": {},
   "outputs": [],
   "source": []
  }
 ],
 "metadata": {
  "kernelspec": {
   "display_name": "Python 3 (ipykernel)",
   "language": "python",
   "name": "python3"
  },
  "language_info": {
   "codemirror_mode": {
    "name": "ipython",
    "version": 3
   },
   "file_extension": ".py",
   "mimetype": "text/x-python",
   "name": "python",
   "nbconvert_exporter": "python",
   "pygments_lexer": "ipython3",
   "version": "3.12.7"
  }
 },
 "nbformat": 4,
 "nbformat_minor": 5
}
