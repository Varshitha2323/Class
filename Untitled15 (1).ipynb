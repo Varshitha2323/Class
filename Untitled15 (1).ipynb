{
  "nbformat": 4,
  "nbformat_minor": 0,
  "metadata": {
    "colab": {
      "provenance": []
    },
    "kernelspec": {
      "name": "python3",
      "display_name": "Python 3"
    },
    "language_info": {
      "name": "python"
    }
  },
  "cells": [
    {
      "cell_type": "code",
      "execution_count": null,
      "metadata": {
        "id": "-ooz6gStrSVY"
      },
      "outputs": [],
      "source": [
        "import PIL.Image\n",
        "img=PIL.Image.open(\"Image20250313094619.jpg\")\n",
        "model=genai.GenerativeModel(\"gemini-1.5-flash\")"
      ]
    },
    {
      "cell_type": "code",
      "source": [
        "import google.generativeai as genai\n",
        "from google.colab import userdata\n",
        "GOOGLE_API_KEY=userdata.get('GOOGLE_API_KEY')\n",
        "genai.configure(api_key=GOOGLE_API_KEY)"
      ],
      "metadata": {
        "id": "UkaYAKAer-tN"
      },
      "execution_count": null,
      "outputs": []
    },
    {
      "cell_type": "code",
      "source": [
        "from PIL import Image # import Image from PIL module\n",
        "\n",
        "image_path = \"Image20250313094316.jpg\"\n",
        "image = Image.open(image_path) # Now you can use Image directly\n",
        "response = model.generate_content([\"What product is shown in this image?\", image])\n",
        "print(response.text)"
      ],
      "metadata": {
        "colab": {
          "base_uri": "https://localhost:8080/",
          "height": 72
        },
        "id": "R_WeEzUrte1p",
        "outputId": "be1452d3-bc19-4c9c-8e31-72b56242b616"
      },
      "execution_count": null,
      "outputs": [
        {
          "output_type": "stream",
          "name": "stdout",
          "text": [
            "That's a pair of black over-ear headphones.  They appear to be wireless, judging by the lack of visible wires.\n",
            "\n"
          ]
        }
      ]
    },
    {
      "cell_type": "code",
      "source": [
        "response = model.generate_content([\"Suugest similar product to this one.\", image])\n",
        "print(response.text)"
      ],
      "metadata": {
        "colab": {
          "base_uri": "https://localhost:8080/",
          "height": 280
        },
        "id": "hjMQFltWvNOp",
        "outputId": "5d5534e3-131e-47e5-fc0d-e7f545a886e1"
      },
      "execution_count": null,
      "outputs": [
        {
          "output_type": "stream",
          "name": "stdout",
          "text": [
            "Here are some suggestions for similar products to the black over-ear headphones shown in the image.  To give you the best suggestions, I need a little more information.  What aspects of the headphones are most important to you?  For example:\n",
            "\n",
            "* **Brand Preference:** Do you prefer a specific brand (e.g., Sony, Bose, Beats)?\n",
            "* **Budget:** Are you looking for budget-friendly options, mid-range, or high-end headphones?\n",
            "* **Features:** Are there any specific features you need, such as noise cancellation, wireless connectivity (Bluetooth), microphone, water resistance, etc.?\n",
            "* **Use Case:** What will you primarily use the headphones for (e.g., music listening, gaming, phone calls, etc.)?\n",
            "\n",
            "However, based solely on the image, I can suggest some *general* similar products:\n",
            "\n",
            "* **Other Over-Ear Headphones:**  Many brands offer similar over-ear, closed-back headphones in a black color. Look for products from brands like Sony, Bose, Audio-Technica, Sennheiser, JBL, AKG, and Beyerdynamic.  These brands all produce a wide range of styles and price points.  Search online retailers (Amazon, Best Buy, etc.) for \"over-ear headphones\" to see a wide selection.\n",
            "* **Closed-Back Design:** The image shows a closed-back design (earcups fully enclose the ears). This is common and helps with noise isolation.  If this is important, specify \"closed-back\" in your search.\n",
            "\n",
            "Once you provide more detail about your preferences, I can give you more specific and helpful recommendations.\n",
            "\n"
          ]
        }
      ]
    },
    {
      "cell_type": "code",
      "source": [
        "image_path = \"Image20250313095615.jpg\"\n",
        "image = Image.open(image_path)\n",
        "response = model.generate_content([\"Extract the price from this image.\", image])\n",
        "print(response.text)"
      ],
      "metadata": {
        "colab": {
          "base_uri": "https://localhost:8080/",
          "height": 54
        },
        "id": "k_Yl5u9LvjKw",
        "outputId": "a9fa91b8-420b-42c8-b8ec-9dfb4ba3f38f"
      },
      "execution_count": null,
      "outputs": [
        {
          "output_type": "stream",
          "name": "stdout",
          "text": [
            "The price of each item is $10.00.  The subtotal is $100.00, and the grand total is also $100.00.\n"
          ]
        }
      ]
    },
    {
      "cell_type": "code",
      "source": [
        "response = model.generate_content([\"Extract the price, currency, and any discounts trom this image.\", image])\n",
        "print(response.text)"
      ],
      "metadata": {
        "colab": {
          "base_uri": "https://localhost:8080/",
          "height": 104
        },
        "id": "xBa1ryxcwSwU",
        "outputId": "f7fd0e91-29f0-4b56-c0b5-94474c2a5573"
      },
      "execution_count": null,
      "outputs": [
        {
          "output_type": "stream",
          "name": "stdout",
          "text": [
            "Here's the extracted information from the provided invoice image:\n",
            "\n",
            "* **Price:** $10.00 (per item)\n",
            "* **Currency:** USD ($)\n",
            "* **Discounts:** No discounts are listed on the invoice.  There is a 10% tax.\n"
          ]
        }
      ]
    },
    {
      "cell_type": "code",
      "source": [
        "image_path = \"Image20250313095927.jpg\"\n",
        "image = Image.open(image_path)\n",
        "response = model.generate_content([\"Identify all objects present in tbis image\", image])\n",
        "print(response.text)"
      ],
      "metadata": {
        "colab": {
          "base_uri": "https://localhost:8080/",
          "height": 211
        },
        "id": "X8jYrAVGwbSC",
        "outputId": "3e7d49a4-95f8-4336-98cd-ec35c4b52e40"
      },
      "execution_count": null,
      "outputs": [
        {
          "output_type": "stream",
          "name": "stdout",
          "text": [
            "Here are the objects present in the image:\n",
            "\n",
            "* **Two bicycles:** One is primarily black and yellow, and the other is white.\n",
            "* **Two men:**  Riding the bicycles. One is wearing a blue shirt and camouflage shorts, the other a gray shirt and jeans. The second man is wearing a red cap.\n",
            "* **A motorcycle:** Parked on the left side of the image.\n",
            "* **A building:** In the background, with a partially open roll-up door and windows.\n",
            "* **A man (in the background):** Sitting inside the building.\n",
            "* **Chairs:** Visible inside the building.\n",
            "* **Street:** Wet, the scene appears to be after some rain.\n",
            "* **Plants:**  Some vegetation is visible at the edge of the street.\n"
          ]
        }
      ]
    },
    {
      "cell_type": "code",
      "source": [
        "pip install youtube-transcript-api pytube"
      ],
      "metadata": {
        "colab": {
          "base_uri": "https://localhost:8080/"
        },
        "id": "AzF3WxCqxzd7",
        "outputId": "ee9b2bef-854e-4aec-9d16-d45ec042dc9c"
      },
      "execution_count": null,
      "outputs": [
        {
          "output_type": "stream",
          "name": "stdout",
          "text": [
            "Collecting youtube-transcript-api\n",
            "  Using cached youtube_transcript_api-1.0.1-py3-none-any.whl.metadata (22 kB)\n",
            "Collecting pytube\n",
            "  Downloading pytube-15.0.0-py3-none-any.whl.metadata (5.0 kB)\n",
            "Requirement already satisfied: defusedxml<0.8.0,>=0.7.1 in /usr/local/lib/python3.11/dist-packages (from youtube-transcript-api) (0.7.1)\n",
            "Requirement already satisfied: requests in /usr/local/lib/python3.11/dist-packages (from youtube-transcript-api) (2.32.3)\n",
            "Requirement already satisfied: charset-normalizer<4,>=2 in /usr/local/lib/python3.11/dist-packages (from requests->youtube-transcript-api) (3.4.1)\n",
            "Requirement already satisfied: idna<4,>=2.5 in /usr/local/lib/python3.11/dist-packages (from requests->youtube-transcript-api) (3.10)\n",
            "Requirement already satisfied: urllib3<3,>=1.21.1 in /usr/local/lib/python3.11/dist-packages (from requests->youtube-transcript-api) (2.3.0)\n",
            "Requirement already satisfied: certifi>=2017.4.17 in /usr/local/lib/python3.11/dist-packages (from requests->youtube-transcript-api) (2025.1.31)\n",
            "Downloading youtube_transcript_api-1.0.1-py3-none-any.whl (1.9 MB)\n",
            "\u001b[2K   \u001b[90m━━━━━━━━━━━━━━━━━━━━━━━━━━━━━━━━━━━━━━━━\u001b[0m \u001b[32m1.9/1.9 MB\u001b[0m \u001b[31m52.6 MB/s\u001b[0m eta \u001b[36m0:00:00\u001b[0m\n",
            "\u001b[?25hDownloading pytube-15.0.0-py3-none-any.whl (57 kB)\n",
            "\u001b[2K   \u001b[90m━━━━━━━━━━━━━━━━━━━━━━━━━━━━━━━━━━━━━━━━\u001b[0m \u001b[32m57.6/57.6 kB\u001b[0m \u001b[31m4.7 MB/s\u001b[0m eta \u001b[36m0:00:00\u001b[0m\n",
            "\u001b[?25hInstalling collected packages: pytube, youtube-transcript-api\n",
            "Successfully installed pytube-15.0.0 youtube-transcript-api-1.0.1\n"
          ]
        }
      ]
    },
    {
      "cell_type": "code",
      "source": [
        "from youtube_transcript_api import YouTubeTranscriptApi\n",
        "def get_youtube_transcript(video_url):\n",
        "    \"\"\"Fetches the transcript of a YouTube video.\"\"\"\n",
        "    video_id = video_url.split(\"v=\")[1].split(\"&\")[0]  # Extract video ID\n",
        "    transcript = YouTubeTranscriptApi.get_transcript(video_id)\n",
        "    full_text = \" \".join([t[\"text\"] for t in transcript])\n",
        "    return full_text\n",
        "# Example Usage\n",
        "video_url = \"https://www.youtube.com/watch?v=unYDoA8QGH0&list=PLWEpztHwA4ZT2QlHC74oIz4MsawcvE-QX\"\n",
        "video_transcript = get_youtube_transcript(video_url)\n",
        "print(\"Transcript:\\n\", video_transcript[:500])  # Show first 500 characters"
      ],
      "metadata": {
        "colab": {
          "base_uri": "https://localhost:8080/"
        },
        "id": "fPAgM9nhyigT",
        "outputId": "b8eb8edf-6adb-4361-bb04-482e5bee7dc0"
      },
      "execution_count": null,
      "outputs": [
        {
          "output_type": "stream",
          "name": "stdout",
          "text": [
            "Transcript:\n",
            " hi guys today I'm going to introduce you what is machine learning uh these are my presentation content what is machine learning what are the different applications of machine learning different types of machine learning and how to build a machine learning system or model then various kinds of algorithms and later on in this series we are going to take a Hands-On you know case studies or doing programming for various kinds of up algorithms so what is machine learning so machine learning is nothin\n"
          ]
        }
      ]
    },
    {
      "cell_type": "code",
      "source": [
        "def summarize_video(text):\n",
        "    \"\"\"Summarizes the YouTube video transcript using Gemini AI.\"\"\"\n",
        "    model = genai.GenerativeModel(\"gemini-1.5-flash\")\n",
        "    prompt = f\"Summarize the following YouTube video transcript:\\n\\n{text}\"\n",
        "    response = model.generate_content(prompt)\n",
        "    return response.text\n",
        "summary = summarize_video(video_transcript)\n",
        "print(\"Summary:\\n\",summary)"
      ],
      "metadata": {
        "colab": {
          "base_uri": "https://localhost:8080/",
          "height": 158
        },
        "id": "yze3eggH0v4T",
        "outputId": "751c527c-2f30-4d06-e3de-b37ff3a154ec"
      },
      "execution_count": null,
      "outputs": [
        {
          "output_type": "stream",
          "name": "stdout",
          "text": [
            "Summary:\n",
            " This YouTube video provides an introduction to machine learning.  It covers the definition of machine learning as learning from data, distinguishing it from data science and data analytics.  The presenter explains that machine learning algorithms use training data to build predictive models for future events.  Several applications are highlighted, including speech recognition, web search, recommendation systems, computer vision, information retrieval, and fraud detection.\n",
            "\n",
            "Three main types of machine learning are detailed: supervised (with labeled data, further divided into classification and regression), unsupervised (with unlabeled data, including clustering and dimensionality reduction), and reinforcement learning (where an agent learns through trial and error and rewards/penalties).\n",
            "\n",
            "The video outlines the process of building a machine learning model, emphasizing data pre-processing (cleaning, scaling, encoding, feature selection), algorithm selection (with examples for classification and regression), model building, and evaluation.  The presenter promises future videos with hands-on case studies and algorithm implementations using the Iris dataset as an example.  The video concludes by encouraging viewers to ask questions.\n",
            "\n"
          ]
        }
      ]
    },
    {
      "cell_type": "code",
      "source": [
        "def extract_video_insights(text):\n",
        "    \"\"\"Extracts key insights from the YouTube video transcript.\"\"\"\n",
        "    model = genai.GenerativeModel(\"gemini-1.5-flash\")\n",
        "    prompt = f\"Extract the key takeaways and insights from this YouTube video:\\n\\n{text}\"\n",
        "    response = model.generate_content(prompt)\n",
        "    return response.text\n",
        "insights = extract_video_insights(video_transcript)\n",
        "print(\"Key Insights:\\n\",insights)"
      ],
      "metadata": {
        "colab": {
          "base_uri": "https://localhost:8080/",
          "height": 939
        },
        "id": "_1dmfQh12VmL",
        "outputId": "abb2a1e3-5d06-4d71-bd6d-a292eb71b61f"
      },
      "execution_count": null,
      "outputs": [
        {
          "output_type": "stream",
          "name": "stdout",
          "text": [
            "Key Insights:\n",
            " This YouTube video provides an introduction to machine learning. Here are the key takeaways and insights:\n",
            "\n",
            "**What is Machine Learning?**\n",
            "\n",
            "* **Core Concept:** Machine learning is about learning from data.  It's a subfield of AI that creates systems capable of learning from experience (data) without explicit programming.  This learning process improves the system's performance on a specific task over time.\n",
            "* **Key Components:**  Training data (experience), machine learning algorithm, and a resulting model used for prediction.\n",
            "* **Arthur Samuel's Definition:** A field of study that gives computers the ability to learn without being explicitly programmed.\n",
            "* **Simple Definition:** Learning from data.\n",
            "\n",
            "**Applications of Machine Learning:**\n",
            "\n",
            "The video highlights the wide applicability of machine learning across various domains, including:\n",
            "\n",
            "* **Speech Recognition:**  Powering virtual assistants like Siri and Google Assistant.\n",
            "* **Web Search:**  Improving search engine results (e.g., using algorithms like Naive Bayes).\n",
            "* **Recommendation Systems:** Suggesting products or content based on user preferences.\n",
            "* **Computer Vision:** Enabling image and video analysis, object recognition, and understanding image content.\n",
            "* **Information Retrieval:**  Processing vast amounts of data to deliver relevant information (as seen in Google search).\n",
            "* **Fraud Detection:** Identifying malicious activities online.\n",
            "\n",
            "**Types of Machine Learning:**\n",
            "\n",
            "The video categorizes machine learning into three main types:\n",
            "\n",
            "* **Supervised Learning:**  The algorithm learns from labeled data where the desired outcome is known.  This is further divided into:\n",
            "    * **Classification:** Predicting a categorical outcome (e.g., spam/not spam, digit recognition).\n",
            "    * **Regression:** Predicting a continuous outcome (e.g., predicting house prices, salary).\n",
            "* **Unsupervised Learning:** The algorithm learns from unlabeled data, aiming to discover patterns and structures (e.g., clustering, dimensionality reduction).\n",
            "* **Reinforcement Learning:**  An agent learns through trial and error in an environment, receiving rewards or penalties based on its actions (e.g., game playing, robotics).\n",
            "\n",
            "**Building a Machine Learning Model: The Workflow**\n",
            "\n",
            "The video outlines a typical machine learning workflow:\n",
            "\n",
            "1. **Data Preprocessing:** Cleaning, scaling, encoding, and selecting relevant features from the raw data.\n",
            "2. **Algorithm Selection:** Choosing an appropriate algorithm based on the problem type (classification, regression, etc.).\n",
            "3. **Model Building:** Applying the chosen algorithm to the preprocessed data to create a predictive model.\n",
            "4. **Model Evaluation:** Assessing the model's accuracy and performance using various metrics.\n",
            "\n",
            "**Important Terminology:**\n",
            "\n",
            "The video clarifies common terms used in machine learning, such as:\n",
            "\n",
            "* **Features/Attributes:** Columns in a dataset (excluding the target variable).\n",
            "* **Target Variable/Response Variable:** The column to be predicted.\n",
            "* **Samples/Instances/Observations:** Rows in a dataset.\n",
            "* **Data Preprocessing Techniques:** Cleaning, scaling, encoding, feature selection, and dimensionality reduction.\n",
            "\n",
            "\n",
            "**Future Steps:**  The presenter promises future videos covering practical implementations of various machine learning algorithms and case studies.\n",
            "\n"
          ]
        }
      ]
    }
  ]
}