{
  "nbformat": 4,
  "nbformat_minor": 0,
  "metadata": {
    "colab": {
      "provenance": []
    },
    "kernelspec": {
      "name": "python3",
      "display_name": "Python 3"
    },
    "language_info": {
      "name": "python"
    }
  },
  "cells": [
    {
      "cell_type": "code",
      "execution_count": null,
      "metadata": {
        "id": "so3GZsV8Asxz"
      },
      "outputs": [],
      "source": [
        "import nltk\n",
        "import re\n",
        "from nltk.chat.util import Chat, reflections"
      ]
    },
    {
      "cell_type": "code",
      "source": [
        "nltk.download('punkt')\n",
        "nltk.download('averaged_perceptron_tagger')"
      ],
      "metadata": {
        "colab": {
          "base_uri": "https://localhost:8080/"
        },
        "id": "BhtM1jhIA0aG",
        "outputId": "397e2be1-02fe-4e39-880e-695d9963917d"
      },
      "execution_count": null,
      "outputs": [
        {
          "output_type": "stream",
          "name": "stderr",
          "text": [
            "[nltk_data] Downloading package punkt to /root/nltk_data...\n",
            "[nltk_data]   Unzipping tokenizers/punkt.zip.\n",
            "[nltk_data] Downloading package averaged_perceptron_tagger to\n",
            "[nltk_data]     /root/nltk_data...\n",
            "[nltk_data]   Unzipping taggers/averaged_perceptron_tagger.zip.\n"
          ]
        },
        {
          "output_type": "execute_result",
          "data": {
            "text/plain": [
              "True"
            ]
          },
          "metadata": {},
          "execution_count": 3
        }
      ]
    },
    {
      "cell_type": "code",
      "source": [
        "pairs = [\n",
        "    [r\"my name is (.*)\", [\"Hello %1, how can I assist you today?\",]],\n",
        "    [r\"hi|hey|hello\", [\"Hello, how can I help you?\", \"Hey there! What can I do for you?\",\n",
        "                       \"Hi! How can I assist you today?\"]],\n",
        "    [r\"what is your name?\", [\"I am a chatbot created to assist you. You can call me Chatbot.\",]],\n",
        "    [r\"how are you?\", [\"I'm a bot, so I don't have feelings, but I'm here to help you!\",]],\n",
        "    [r\"can you help me with (.*)\", [\"Sure, I can help you with %1. Please provide more details.\",]],\n",
        "    [r\"sorry (.*)\", [\"It's okay. How can I assist you?\",]],\n",
        "    [r\"thank you|thanks\", [\"You're welcome!\", \"No problem!\", \"Happy to help!\"]],\n",
        "    [r\"quit\", [\"Bye! Have a great day!\", \"Goodbye!\"]],\n",
        "    [r\"(.*)\", [\"I'm sorry, I don't understand that. Can you rephrase?\",\n",
        "               \"Could you please elaborate on that?\"]]\n",
        "]"
      ],
      "metadata": {
        "id": "LWSc1ZqxBEqT"
      },
      "execution_count": null,
      "outputs": []
    },
    {
      "cell_type": "code",
      "source": [
        "class RBChat:\n",
        "  def __init__(self,pairs):\n",
        "    self.chatbot = Chat(pairs,reflections)\n",
        "  def respond(self, user_input):\n",
        "    return self.chatbot.respond(user_input)\n",
        "chatbot=RBChat(pairs)\n"
      ],
      "metadata": {
        "id": "h6WIgZ8zpMZi"
      },
      "execution_count": null,
      "outputs": []
    },
    {
      "cell_type": "code",
      "source": [
        "def chat_with_bot():\n",
        "  print(\"Hello! I'm a chatbot. How can I assist you today?\")\n",
        "  while True:\n",
        "    user_input = input(\"You: \")\n",
        "    if user_input.lower() == \"quit\":\n",
        "      print(\"Chatbot: Goodbye!\")\n",
        "      break\n",
        "    response = chatbot.respond(user_input)\n",
        "    print(\"Chatbot:\", response)\n",
        "chat_with_bot()"
      ],
      "metadata": {
        "colab": {
          "base_uri": "https://localhost:8080/"
        },
        "id": "7-jmcFxpp1NO",
        "outputId": "e5af48e2-56ae-4e89-eb9f-5a6b1bd7c0f4"
      },
      "execution_count": null,
      "outputs": [
        {
          "output_type": "stream",
          "name": "stdout",
          "text": [
            "Hello! I'm a chatbot. How can I assist you today?\n",
            "You: hi\n",
            "Chatbot: Hey there! What can I do for you?\n",
            "You: i am varshitha\n",
            "Chatbot: Could you please elaborate on that?\n",
            "You: my name is varshitha\n",
            "Chatbot: Hello varshitha, how can I assist you today?\n",
            "You: can you help me with maths\n",
            "Chatbot: Sure, I can help you with maths. Please provide more details.\n",
            "You:   thanks\n",
            "Chatbot: I'm sorry, I don't understand that. Can you rephrase?\n",
            "You: quit\n",
            "Chatbot: Goodbye!\n"
          ]
        }
      ]
    },
    {
      "cell_type": "code",
      "source": [
        "context=\"\"\"The Eiffel Tower is a wrought-iron lattice tower on the Champ de Mars in Paris, France. It is named after the engineer Gustave Eiffel, whose company designed and built the tower.\"\"\"\n",
        "question=\"Who designed nlp\"\n",
        "inputs=tokenizer(question,context,return_tensors=\"pt\")\n"
      ],
      "metadata": {
        "id": "nakPDeSLq7z_"
      },
      "execution_count": null,
      "outputs": []
    }
  ]
}