{
  "nbformat": 4,
  "nbformat_minor": 0,
  "metadata": {
    "colab": {
      "provenance": []
    },
    "kernelspec": {
      "name": "python3",
      "display_name": "Python 3"
    },
    "language_info": {
      "name": "python"
    }
  },
  "cells": [
    {
      "cell_type": "code",
      "execution_count": null,
      "metadata": {
        "id": "vv0TIzlRYytC"
      },
      "outputs": [],
      "source": [
        "from transformers import pipeline\n",
        "from hugging_hub import login\n",
        "login(token=\"\")\n",
        "translator=pipeline(\"translation\",model=\"\")\n",
        "english_text=\"Hello, How are you?\"\n",
        "result = translator(english_text, max_length=100)\n",
        "print(\"Translated Text:\", result[0]['translation_text'])"
      ]
    },
    {
      "cell_type": "code",
      "source": [
        "from transforms import MBartForConditionalGeneration, MBart50TokenizerFast\n",
        "model_checkpoint = \"aryaumesh/english_to_telugu\"\n",
        "text=\"Hello, How are you\""
      ],
      "metadata": {
        "id": "hXwBCtN9arum"
      },
      "execution_count": null,
      "outputs": []
    }
  ]
}