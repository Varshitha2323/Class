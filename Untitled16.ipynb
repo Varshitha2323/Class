{
  "nbformat": 4,
  "nbformat_minor": 0,
  "metadata": {
    "colab": {
      "provenance": []
    },
    "kernelspec": {
      "name": "python3",
      "display_name": "Python 3"
    },
    "language_info": {
      "name": "python"
    }
  },
  "cells": [
    {
      "cell_type": "code",
      "execution_count": null,
      "metadata": {
        "id": "oSEhYbqQf1_M"
      },
      "outputs": [],
      "source": [
        "import google.generativeai as genai\n",
        "from google.colab import userdata\n",
        "GOOGLE_API_KEY=userdata.get('GOOGLE_API_KEY')\n",
        "genai.configure(api_key=GOOGLE_API_KEY)\n"
      ]
    },
    {
      "cell_type": "code",
      "source": [
        "pip install PyPDF2"
      ],
      "metadata": {
        "colab": {
          "base_uri": "https://localhost:8080/"
        },
        "id": "YrdjwK7Igiuk",
        "outputId": "2e9f7bd0-c8f5-4511-aa57-229ee2ce94c4"
      },
      "execution_count": null,
      "outputs": [
        {
          "output_type": "stream",
          "name": "stdout",
          "text": [
            "Collecting PyPDF2\n",
            "  Downloading pypdf2-3.0.1-py3-none-any.whl.metadata (6.8 kB)\n",
            "Downloading pypdf2-3.0.1-py3-none-any.whl (232 kB)\n",
            "\u001b[?25l   \u001b[90m━━━━━━━━━━━━━━━━━━━━━━━━━━━━━━━━━━━━━━━━\u001b[0m \u001b[32m0.0/232.6 kB\u001b[0m \u001b[31m?\u001b[0m eta \u001b[36m-:--:--\u001b[0m\r\u001b[2K   \u001b[90m━━━━━━━━━━━━━━━━━━━━━━━━━━━━━━━━━━━━━━━━\u001b[0m \u001b[32m232.6/232.6 kB\u001b[0m \u001b[31m7.1 MB/s\u001b[0m eta \u001b[36m0:00:00\u001b[0m\n",
            "\u001b[?25hInstalling collected packages: PyPDF2\n",
            "Successfully installed PyPDF2-3.0.1\n"
          ]
        }
      ]
    },
    {
      "cell_type": "code",
      "source": [
        "import google.generativeai as genai\n",
        "from google.colab import userdata\n",
        "\n",
        "# Get the API key and strip any leading/trailing whitespace\n",
        "GOOGLE_API_KEY = userdata.get('GOOGLE_API_KEY').strip()\n",
        "genai.configure(api_key=GOOGLE_API_KEY)"
      ],
      "metadata": {
        "id": "uaNxfm3NgwBr"
      },
      "execution_count": null,
      "outputs": []
    },
    {
      "cell_type": "code",
      "source": [
        "import PyPDF2\n",
        "def extract(pdf_path):\n",
        "  \"\"\"4extract text from a given health report\"\"\"\n",
        "  text = \"\"\n",
        "  with open(pdf_path, \"rb\") as file :\n",
        "\n",
        "    reader = PyPDF2.PdfReader(file)\n",
        "    for page in reader.pages:\n",
        "      text += page.extract_text()+ \"\\n\"\n",
        "  return text"
      ],
      "metadata": {
        "id": "MGC3vYNtidQc"
      },
      "execution_count": null,
      "outputs": []
    },
    {
      "cell_type": "code",
      "source": [
        "def extract_health(text):\n",
        "  \"\"\"Asks  gemini AI to extract \"\"\"\n",
        "  model=genai.GenerativeModel('gemini-1.5-flash')\n",
        "  prompt=f\"Extract key insight from the following health report:{text}\"\n",
        "  response= model.generate_content(prompt)\n",
        "  return response.text\n",
        "pdf_file=\"health_report.pdf\"\n",
        "extracted=extract(pdf_file)\n",
        "extracted_health=extract_health(extracted)\n",
        "print(extracted_health)"
      ],
      "metadata": {
        "colab": {
          "base_uri": "https://localhost:8080/",
          "height": 384
        },
        "id": "lILqwehElmwG",
        "outputId": "85f6fc17-07da-40f7-c00d-ef0425d72e80"
      },
      "execution_count": null,
      "outputs": [
        {
          "output_type": "stream",
          "name": "stdout",
          "text": [
            "Mr. Kishan Goud's (MR2100003157) blood tests revealed:\n",
            "\n",
            "* **Elevated ESR:**  An elevated erythrocyte sedimentation rate (ESR) of 26 mm/hr (1st hour) and 52 mm/hr (2nd hour) suggests inflammation in the body.  This is significantly above the reference range (0-8 mm/hr).\n",
            "\n",
            "* **Possible Typhoid Antibodies:**  The Widal test showed elevated titers for *Salmonella Typhi* \"O\" (1:160) and \"H\" (1:80), suggesting a possible past or present *Salmonella Typhi* infection.  However, this test is not definitive and needs further investigation to confirm active infection.\n",
            "\n",
            "* **Negative for Dengue and Malaria:**  Tests for dengue NS1 antigen, IgG, IgM, and malaria were all negative.\n",
            "\n",
            "* **Normal Blood Count:** His complete blood picture (CBC) showed hemoglobin, RBC, WBC, and platelet counts within normal ranges, with a normal differential count.\n",
            "\n",
            "* **Normal HbA1c:** His HbA1c level (5.4%) falls within the normal range for non-diabetics, indicating good blood sugar control.\n",
            "\n",
            "* **Normal Creatinine and Blood Glucose:** Serum creatinine and random blood glucose levels were within the normal range.\n",
            "\n",
            "* **Normal Liver Function Tests:**  Liver function tests were mostly within normal limits, with slightly elevated alkaline phosphatase. Further investigation might be needed.\n",
            "\n",
            "* **Slightly Low Serum Sodium:** Serum sodium (122 mmol/l) was slightly below the lower limit of the reference range (135-146 mmol/l).  This requires follow up.\n",
            "\n",
            "**In summary:** The most significant finding is the elevated ESR, suggesting inflammation, along with possible past or present typhoid infection indicated by the Widal test.  The slightly low serum sodium also warrants further investigation.  The other results were largely unremarkable.  The information provided is insufficient to diagnose definitively and should be interpreted by a physician in conjunction with clinical symptoms and findings.\n",
            "\n"
          ]
        }
      ]
    },
    {
      "cell_type": "code",
      "source": [
        "def summarize_health(text):\n",
        "  \"\"\"Summarize the health report using Gemini AI \"\"\"\n",
        "  model=genai.GenerativeModel('gemini-1.5-flash')\n",
        "  prompt=f\"Extract key insight from the following health report:{text}\"\n",
        "  response= model.generate_content(prompt)\n",
        "  return response.text\n",
        "summary = summarize_health(extracted_text)\n",
        "print(\"Summary:\\n\",summary)"
      ],
      "metadata": {
        "colab": {
          "base_uri": "https://localhost:8080/",
          "height": 89
        },
        "id": "LJkewPTTlqWh",
        "outputId": "7e5dd0e5-cada-4d41-ff3e-c169e2838b65"
      },
      "execution_count": null,
      "outputs": [
        {
          "output_type": "stream",
          "name": "stdout",
          "text": [
            "Summary:\n",
            " Mr. Kishan Goud's lab results show an elevated Erythrocyte Sedimentation Rate (ESR) (26 mm/hr in the first hour, 52 mm/hr in the second hour), which is indicative of inflammation.  His Widal test shows a positive result for *Salmonella Typhi* \"O\" (1:160) and \"H\" (1:80), suggesting a possible typhoid infection.  However,  all dengue serology tests (NS1 antigen, IgG, IgM) and malaria tests were negative.  His complete blood count (CBC) shows values mostly within the normal range, although his lymphocytes are slightly below the ideal range.  His HbA1c level (5.4%) is within the normal non-diabetic range.  Liver function tests and electrolyte levels show mostly normal values except for slightly low serum sodium (122 mmol/l).  The doctor should consider the elevated ESR and positive Widal test when diagnosing Mr. Goud's condition.\n",
            "\n"
          ]
        }
      ]
    },
    {
      "cell_type": "code",
      "source": [
        "def detect_abnormalities(text):\n",
        "  \"\"\"Analyze lab test results and flags abnormal values.\"\"\"\n",
        "  model=genai.GenerativeModel('gemini-1.5-flash')\n",
        "  prompt=f\"Analyze lab test results in the following health report and highlight any abnormal values:\\n\\n{text}\"\n",
        "  response= model.generate_content(prompt)\n",
        "  return response.text\n",
        "abnormalities = detect_abnormalities(extracted_text)\n",
        "print(\"Potential Abnormalities:\\n\",abnormalities)"
      ],
      "metadata": {
        "colab": {
          "base_uri": "https://localhost:8080/",
          "height": 280
        },
        "id": "KTrGQHuqmutr",
        "outputId": "5b27c8a1-9f5e-4a86-ba23-7b4d2fbd0282"
      },
      "execution_count": null,
      "outputs": [
        {
          "output_type": "stream",
          "name": "stdout",
          "text": [
            "Potential Abnormalities:\n",
            " Based on the provided lab results, the following values fall outside the given biological reference ranges, indicating potential abnormalities:\n",
            "\n",
            "* **Widal Test:**  S. Typhi \"O\" (1:160) and S. Typhi \"H\" (1:80) are significantly higher than the reference range of 1:20. This suggests a possible past or current infection with *Salmonella Typhi*,  requiring further investigation and clinical correlation.\n",
            "\n",
            "* **ESR:**  Both the 1st hour (26 mm/hr) and 2nd hour (52 mm/hr) ESR values are elevated above the reference range of 0-8 mm/hr for the first hour.  Elevated ESR often indicates inflammation or infection somewhere in the body.\n",
            "\n",
            "* **Serum Sodium:** The serum sodium level of 122 mmol/l is below the reference range of 135-146 mmol/l, indicating hyponatremia (low sodium).  This is a significant finding and requires medical attention.\n",
            "\n",
            "* **Serum Chloride:** The serum chloride level of 97 mmol/l is slightly below the reference range of 98-107 mmol/l. While not drastically outside the range, it warrants consideration, particularly in conjunction with the hyponatremia.\n",
            "\n",
            "\n",
            "**Important Note:**  I am an AI and cannot provide medical advice.  These highlighted results are potential abnormalities that *require* further evaluation and interpretation by a qualified healthcare professional.  The doctor should consider these findings in the context of Mr. Kishan Goud's clinical presentation, medical history, and other relevant test results to determine the appropriate diagnosis and treatment.  The slightly low chloride, while potentially significant, needs to be viewed in light of the hyponatremia.\n",
            "\n"
          ]
        }
      ]
    },
    {
      "cell_type": "code",
      "source": [
        "def explain_medical_terms(text):\n",
        "  \"\"\"Asks Genini AI to simplify medical terms for patient understanding\"\"\"\n",
        "  model=genai.GenerativeModel('gemini-1.5-flash')\n",
        "  prompt=f\"Explain the medical terms in the following health report in simple language:\\n\\n{text}\"\n",
        "  response= model.generate_content(prompt)\n",
        "  return response.text\n",
        "explanation = detect_abnormalities(extracted_text)\n",
        "print(\"Simplified Explanation:\\n\",explanation)"
      ],
      "metadata": {
        "colab": {
          "base_uri": "https://localhost:8080/",
          "height": 280
        },
        "id": "5UdzUz3apnde",
        "outputId": "12cfef8b-6113-4dde-adf7-a02c8df06e5b"
      },
      "execution_count": null,
      "outputs": [
        {
          "output_type": "stream",
          "name": "stdout",
          "text": [
            "Simplified Explanation:\n",
            " The following lab results from Mr. Kishan Goud's report are outside the provided biological reference ranges:\n",
            "\n",
            "* **Widal Test:**  S. Typhi \"O\" (1:160) and S. Typhi \"H\" (1:80) are significantly higher than the reference range of 1:20. This suggests a possible past or present infection with *Salmonella Typhi*.  The titers are high enough to be suggestive, but further clinical correlation is needed to confirm typhoid.\n",
            "\n",
            "* **Erythrocyte Sedimentation Rate (ESR):**  Both the 1st hour (26 mm/hr) and 2nd hour (52 mm/hr) ESR values are elevated above the reference range of 0-8 mm/hr for the first hour.  This indicates inflammation or infection somewhere in the body.\n",
            "\n",
            "* **Serum Sodium:** 122 mmol/l is below the reference range of 135-146 mmol/l, indicating hyponatremia (low sodium levels in the blood).  This is a significant finding requiring further investigation and medical attention.\n",
            "\n",
            "* **Serum Chloride:** 97 mmol/l is below the reference range of 98-107 mmol/l, indicating hypochloremia (low chloride levels). This should be investigated further in conjunction with the hyponatremia.\n",
            "\n",
            "\n",
            "**All other values fall within the given reference ranges.**  However, the elevated ESR and abnormal Widal test results, coupled with the hyponatremia and hypochloremia, suggest a need for further medical evaluation to determine the underlying cause.  The high Widal titers are suggestive of typhoid, but  it's important to note that other infections can also cause elevated ESR and a positive Widal test.  The electrolyte imbalances (hyponatremia and hypochloremia) are concerning and need to be addressed urgently.  The patient's physician should interpret these findings in the context of the patient's clinical presentation and history.\n",
            "\n"
          ]
        }
      ]
    },
    {
      "cell_type": "code",
      "source": [
        "from threading import ThreadError\n",
        "def ask_gemini_about_report(text,question):\n",
        "  \"\"\"Allow users to ask questions about their health report.\"\"\"\n",
        "  model=genai.GenerativeModel('gemini-1.5-flash')\n",
        "  prompt=f\"The following is a health report:\\n\\n{text}\\n\\nAnswer the following question based on the report:\\n{question}\"\n",
        "\n",
        "\n",
        "\n",
        "\n",
        "\n",
        "\n",
        "\n",
        "\n",
        "\n",
        "\n",
        "\n",
        "\n",
        "\n",
        "\n",
        "\n",
        "\n",
        "\n",
        "  response= model.generate_content(prompt)\n",
        "  return response.text\n",
        "question=\"What is the patient's diagnosis\"\n",
        "answer = ask_gemini_about_report(extracted_text,question)\n",
        "print(\"Answer:\\n\",answer)"
      ],
      "metadata": {
        "colab": {
          "base_uri": "https://localhost:8080/",
          "height": 89
        },
        "id": "1NnKnxWkquXL",
        "outputId": "f5f250f3-bdef-483a-ccb8-96ed89966b30"
      },
      "execution_count": null,
      "outputs": [
        {
          "output_type": "stream",
          "name": "stdout",
          "text": [
            "Answer:\n",
            " The provided lab report does not offer a diagnosis.  It shows results of various tests, some slightly outside of the normal range (e.g., elevated ESR), but these are just data points.  A diagnosis requires a physician to interpret these results in the context of the patient's symptoms, medical history, and a physical examination.  The slightly elevated ESR could indicate inflammation, but further investigation is needed to determine the cause.\n",
            "\n"
          ]
        }
      ]
    }
  ]
}